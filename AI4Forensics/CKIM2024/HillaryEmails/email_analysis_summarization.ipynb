{
 "cells": [
  {
   "cell_type": "code",
   "execution_count": 13,
   "metadata": {},
   "outputs": [],
   "source": [
    "# pip -q install google-generativeai==0.3.0\n",
    "# pip -q install google-ai-generativelanguage==0.4.0\n",
    "# pip install python-dotenv\n",
    "# pip install --upgrade langchain\n",
    "# pip -q install langchain_experimental langchain_core\n",
    "# pip -q install langchain-google-genai\n",
    "# pip show langchain langchain-core\n",
    "# pip install python-pptxy\n",
    "\n",
    "\n",
    "import numpy as np\n",
    "import os\n",
    "import re\n",
    "import datetime\n",
    "import time\n",
    "import tenacity\n",
    "import argparse\n",
    "import configparser\n",
    "import json\n",
    "import tiktoken\n",
    "import jieba\n",
    "from collections import namedtuple\n",
    "\n",
    "# setup\n",
    "import google.generativeai as genai\n",
    "\n",
    "from IPython.display import display\n",
    "from IPython.display import Markdown\n",
    "\n",
    "import os\n",
    "from dotenv import load_dotenv\n",
    "\n",
    "# Load environment variables from the .env file\n",
    "load_dotenv(\"my_config.env\")\n",
    "\n",
    "# Access the environment variables\n",
    "GOOGLE_AI_STUDIO = os.getenv(\"GOOGLE_AI_STUDIO2\")\n",
    "genai.configure(api_key=GOOGLE_AI_STUDIO )"
   ]
  },
  {
   "cell_type": "code",
   "execution_count": 14,
   "metadata": {},
   "outputs": [],
   "source": [
    "# Set up the model\n",
    "generation_config = {\n",
    "  \"temperature\": 0.0,\n",
    "  \"top_p\": 1,\n",
    "  \"top_k\": 32,\n",
    "  \"max_output_tokens\": 4096,\n",
    "}\n",
    "\n",
    "safety_settings = [\n",
    "    {\"category\": \"HARM_CATEGORY_HARASSMENT\", \"threshold\": \"BLOCK_NONE\"},\n",
    "    {\"category\": \"HARM_CATEGORY_HATE_SPEECH\", \"threshold\": \"BLOCK_NONE\"},\n",
    "    {\"category\": \"HARM_CATEGORY_SEXUALLY_EXPLICIT\", \"threshold\": \"BLOCK_NONE\"},\n",
    "    {\"category\": \"HARM_CATEGORY_DANGEROUS_CONTENT\", \"threshold\": \"BLOCK_NONE\"},\n",
    "]"
   ]
  },
  {
   "cell_type": "code",
   "execution_count": 15,
   "metadata": {},
   "outputs": [],
   "source": [
    "# read a paper\n",
    "from langchain_google_genai import ChatGoogleGenerativeAI\n",
    "from langchain.prompts import ChatPromptTemplate\n",
    "from langchain_core.output_parsers import StrOutputParser\n",
    "\n",
    "model = ChatGoogleGenerativeAI(\n",
    "    model=\"gemini-pro\",\n",
    "    safety_settings=safety_settings,\n",
    "    generation_config=generation_config,\n",
    "    google_api_key=GOOGLE_AI_STUDIO,\n",
    ")\n",
    "\n",
    "\n",
    "template = \"\"\" \n",
    "{role}\\\n",
    "{provided_data}\\\n",
    "{start} \n",
    "\"\"\"\n",
    "prompt = ChatPromptTemplate.from_template(template)"
   ]
  },
  {
   "cell_type": "code",
   "execution_count": 16,
   "metadata": {},
   "outputs": [
    {
     "name": "stdout",
     "output_type": "stream",
     "text": [
      "This email does not contain any information related to Israel or Israelis.\n",
      "This email does not contain any information related to Israel or Israelis.\n",
      "No information about Israel or Israeli related issues was found in the provided email.\n",
      "12:30 Israeli PM Netanyahu\n",
      "- Dennis Ross sent materials to the recipient in advance of relevant meetings, as he was recently in Israel.\n",
      "The provided text does not contain any emails for analysis. Please provide the email(s) for me to summarize.\n",
      "The provided email does not contain any information related to Israel.\n",
      "No Israel-related content found in the provided email.\n",
      "9:00 am BILAT w/ISRAELI PRESIDENT SHIMON PERES\n",
      "The provided email does not contain any information related to Israel.\n",
      "There is no mention of Israel or Israeli in the provided email, so I cannot extract the requested information.\n",
      "This email does not contain any information related to Israel or Israelis.\n",
      "The provided email does not contain any information related to Israel.\n",
      "This email discusses possible ways to present the proposed settlement arrangement with Israel. It suggests two options: describing it as an agreement, which may raise concerns and trigger criticism, or presenting it as progress with remaining differences, allowing for the resumption of peace talks and Arab steps towards Israel.\n",
      "- The Israelis strongly believe that the President of the United States (POTUS) and Secretary Clinton need to speak out now.\n",
      "- If there is a vote in the UN General Assembly, the peace process will end.\n",
      "- Mitchell has been asked to contact Rahm Emanuel and Dan Shapiro to report the Israelis' concerns and ensure that POTUS is aware of the situation before making any public statements.\n",
      "This email does not contain any information related to Israel or Israelis.\n",
      "2:15pm PHONE CALL w/ISRAELI FM AVIGDOR LIEBERMAN\n",
      "No information related to Israel or Israeli is found in the provided email.\n",
      "No information related to Israel is found in the provided email content.\n",
      "This email does not mention Israel.\n",
      "The provided email does not contain any information related to Israel, so I cannot generate a summary.\n",
      "Error processing line: (\"Per the plan, a statement is being released in your name. This is the same statement you saw in the memo package\\nfrom Mitchell:\\nToday's announcement by the Government of Israel helps move forward toward resolving the Israeli-Palestinian\\nconflict. We believe that through good-faith negotiations the parties can mutually agree on an outcome which ends the\\nconflict and reconciles the Palestinian goal of an independent and viable state based on the 1967 lines, with agreed\\nswaps, and the Israeli goal of a Jewish state with secure and recognized borders that reflect subsequent developments\\nand meet Israeli security requirements. Let me say to all the people of the region and world: our commitment to\\nachieving a solution with two states living side by side in peace and security is unwavering.\",)\n",
      "finish_reason: RECITATION\n",
      "index: 0\n",
      "\n",
      "The provided email does not contain any specific information related to Israel.\n",
      "I cannot generate a summary as there is no information related to Israel or Israelis present in the provided text.\n"
     ]
    },
    {
     "name": "stderr",
     "output_type": "stream",
     "text": [
      "Retrying langchain_google_genai.chat_models._chat_with_retry.<locals>._chat_with_retry in 2.0 seconds as it raised ResourceExhausted: 429 Resource has been exhausted (e.g. check quota)..\n"
     ]
    },
    {
     "name": "stdout",
     "output_type": "stream",
     "text": [
      "- 2:00pm SECURE CALL w/ISRAELI PM BINYAMIN NETANYAHU\n",
      "- 2:30pm PHONE CALL w/ISRAELI DEFENSE MINISTER EHUD BARAK\n"
     ]
    },
    {
     "name": "stderr",
     "output_type": "stream",
     "text": [
      "Retrying langchain_google_genai.chat_models._chat_with_retry.<locals>._chat_with_retry in 4.0 seconds as it raised ResourceExhausted: 429 Resource has been exhausted (e.g. check quota)..\n",
      "Retrying langchain_google_genai.chat_models._chat_with_retry.<locals>._chat_with_retry in 8.0 seconds as it raised ResourceExhausted: 429 Resource has been exhausted (e.g. check quota)..\n",
      "Retrying langchain_google_genai.chat_models._chat_with_retry.<locals>._chat_with_retry in 16.0 seconds as it raised ResourceExhausted: 429 Resource has been exhausted (e.g. check quota)..\n"
     ]
    },
    {
     "name": "stdout",
     "output_type": "stream",
     "text": [
      "This email does not pertain to Israel.\n",
      "This email is not related to Israel or Israelis.\n",
      "This document does not mention Israel.\n",
      "No information about Israel was found in the provided email.\n",
      "**Summary on Israel:**\n",
      "\n",
      "- In 2009, Palau and Israel were the only two UN General Assembly members to vote with the US against a resolution calling for an end to the US embargo of Cuba.\n",
      "On Friday, Deputy Secretary of State Jim Steinberg reportedly reprimanded Israeli Ambassador to the U.S. Michael Oren about Israel's actions during Vice President Biden's visit.\n",
      "This email does not contain any information related to Israel.\n",
      "This email is not related to Israel or Israeli.\n",
      "No information about Israel or Israeli was found in the provided email.\n",
      "FYI. Israelis spinning up a storm, starting with a plane briefing on the way over.\n",
      "The email you provided does not contain any information related to Israel.\n",
      "No mention of Israel in the email provided.\n",
      "The provided email does not contain any information related to Israel.\n",
      "No information about Israel is included in the provided email.\n",
      "This email does not contain any information related to Israel or Israeli and, therefore, cannot be summarized.\n"
     ]
    },
    {
     "name": "stderr",
     "output_type": "stream",
     "text": [
      "Retrying langchain_google_genai.chat_models._chat_with_retry.<locals>._chat_with_retry in 2.0 seconds as it raised ResourceExhausted: 429 Resource has been exhausted (e.g. check quota)..\n"
     ]
    },
    {
     "name": "stdout",
     "output_type": "stream",
     "text": [
      "This context does not mention anything about Israel, so I cannot extract the requested data from the provided context.\n"
     ]
    },
    {
     "name": "stderr",
     "output_type": "stream",
     "text": [
      "Retrying langchain_google_genai.chat_models._chat_with_retry.<locals>._chat_with_retry in 4.0 seconds as it raised ResourceExhausted: 429 Resource has been exhausted (e.g. check quota)..\n",
      "Retrying langchain_google_genai.chat_models._chat_with_retry.<locals>._chat_with_retry in 8.0 seconds as it raised ResourceExhausted: 429 Resource has been exhausted (e.g. check quota)..\n"
     ]
    },
    {
     "name": "stdout",
     "output_type": "stream",
     "text": [
      "The Quartet statement reaffirms that the current situation in Gaza is unsustainable and unacceptable. It reiterates the call for a solution that addresses Israel's security concerns, including an end to weapons smuggling into Gaza; promotes Palestinian unity; and ensures the unimpeded flow of humanitarian aid, commercial goods and persons to and from Gaza. The Quartet welcomes the new policy towards Gaza announced by the Government of Israel and calls for its full and effective implementation. The Quartet also calls for an end to the deplorable detention of Gilad Shalit and reiterates its support for proximity talks toward the resumption of direct bilateral negotiations that resolve all final status issues.\n",
      "This email you provided does not contain any information related to Israel.\n",
      "The provided email does not contain any information related to Israel or Israeli.\n",
      "This email is not related to Israel or any Israeli matters.\n",
      "The provided text does not contain an email from Hillary Clinton's private email server; therefore, I cannot summarize the content as requested.\n",
      "**Key Points:**\n",
      "\n",
      "* Leak reveals 56% of Americans believe there is a humanitarian crisis in Gaza.\n",
      "* 43% believe people in Gaza are starving.\n",
      "* 34% support Israel's operation against the Flotilla.\n",
      "* 20% felt support for Israel after easing of Gaza closure.\n",
      "Error processing line: ('SECURITY COUNCIL PRESIDENTIAL STATEMENT ON THE RECENT INCIDENT IN THE EASTERN MEDITERRANEAN\\nThe Security Council deeply regrets the loss of life and injuries resulting from the use of force during the Israeli military\\noperation in international waters against the convoy sailing to Gaza. The Council, in this context, condemns those acts\\nwhich resulted in the loss of at least ten civilians and many wounded, and expresses its condolences to their\\nfamilies. The Security Council requests the immediate release of the ships as well as the civilians held by Israel. The\\nCouncil urges Israel to permit full consular access, to allow the countries concerned to retrieve their deceased and\\nwounded immediately, and to ensure the delivery of humanitarian assistance from the convoy to its destination. The\\nSecurity Council takes note of the statement of the UN Secretary—General on the need to have a full investigation into\\nthe matter and it calls for a prompt, impartial, credible and transparent investigation conforming to international\\nstandards. The Security Council stresses that the situation in Gaza is not sustainable. The Council re-emphasizes the\\nimportance of the full implementation of Resolutions 1850 and 1860. In that context, it reiterates its grave concern at\\nthe humanitarian situation in Gaza and stresses the need for sustained and regular flow of goods and people to Gaza as\\nwell as unimpeded provision and distribution of humanitarian assistance throughout Gaza. The Security Council\\nunderscores that the only viable solution to Israeli-Palestinian conflict is an agreement negotiated between the parties\\nand re-emphasizes that only a two-State solution, with an independent and viable Palestinian State living side by side in\\npeace and security with Israel and its other neighbours, could bring peace to the region. The Security Council expresses\\nsupport for the proximity talks and voices concern that this incident took place while the proximity talks are underway\\nand urges the parties to act with restraint, avoiding any unilateral and provocative actions, and all international partners\\nto promote an atmosphere of cooperation between the parties and throughout the region.',)\n",
      "finish_reason: RECITATION\n",
      "index: 0\n",
      "\n",
      "No information about Israel or Israeli is provided in the given email.\n",
      "I cannot find any mention of Israel or Israeli in the provided email.\n",
      "Israel disputes the Obama administration's claim that it warned Israeli officials to exercise caution and restraint in intercepting the flotilla. Ambassador Oren has not been contacted by anyone in the administration about this and is seeking clarification.\n",
      "This email is not related to Israel or Israeli.\n",
      "I cannot find any information related to Israel or Israeli in the provided email.\n",
      "This email is not related to Israel.\n",
      "The provided email does not contain any information related to Israel or Israeli affairs.\n"
     ]
    },
    {
     "name": "stderr",
     "output_type": "stream",
     "text": [
      "Retrying langchain_google_genai.chat_models._chat_with_retry.<locals>._chat_with_retry in 2.0 seconds as it raised ResourceExhausted: 429 Resource has been exhausted (e.g. check quota)..\n"
     ]
    },
    {
     "name": "stdout",
     "output_type": "stream",
     "text": [
      "This email does not contain any information or requests related to Israel.\n"
     ]
    },
    {
     "name": "stderr",
     "output_type": "stream",
     "text": [
      "Retrying langchain_google_genai.chat_models._chat_with_retry.<locals>._chat_with_retry in 4.0 seconds as it raised ResourceExhausted: 429 Resource has been exhausted (e.g. check quota)..\n",
      "Retrying langchain_google_genai.chat_models._chat_with_retry.<locals>._chat_with_retry in 8.0 seconds as it raised ResourceExhausted: 429 Resource has been exhausted (e.g. check quota)..\n",
      "Retrying langchain_google_genai.chat_models._chat_with_retry.<locals>._chat_with_retry in 16.0 seconds as it raised ResourceExhausted: 429 Resource has been exhausted (e.g. check quota)..\n"
     ]
    },
    {
     "name": "stdout",
     "output_type": "stream",
     "text": [
      "This email does not contain any information about Israel or Israeli.\n",
      "This email does not contain any information related to Israel.\n",
      "This email does not mention Israel or any Israeli-related topics.\n",
      "This email discusses the establishment of a UN Panel to review the May 31 Flotilla Incident report. The panel includes representatives from Israel and Turkey and is chaired by former Prime Minister of New Zealand, Geoffrey Palmer, and Vice-Chaired by former President of Colombia, Alvaro Uribe.\n",
      "Special Envoy Mitchell completed the first round of proximity talks with Israeli and Palestinian leaders. The talks will continue next week with indirect negotiations.\n",
      "The provided email does not contain any information related to Israel.\n",
      "The email provided does not contain any information related to Israel.\n",
      "The provided email does not contain any information or requests related to Israel or Israeli matters.\n",
      "The provided email does not contain any information or requests related to Israel.\n",
      "This context does not mention anything about Israel, so I cannot extract the requested data from the provided context.\n",
      "Noam Chomsky, an American linguist and political thinker, was denied entry into the West Bank by Israeli immigration officials when he tried to cross into the Palestinian territory from Jordan to deliver a lecture. This incident has been reported in the European press and has created a PR disaster for Israel and the US, as Chomsky is a prominent US citizen. Chomsky has been critical of Israel's policies, including the occupation of Palestinian territory and the recent offensive in Gaza. He was interrogated for several hours before being told that he would not be allowed to cross into the occupied Palestinian territory. Israel's Interior Ministry later said there had been a misunderstanding and officials were trying to get clearance from the Israeli military to allow Chomsky to enter. Chomsky was invited to speak at Bir Zeit University in the West Bank on American foreign and domestic policy.\n",
      "No information related to Israel or Israelis is present in the provided text.\n",
      "Gordon and Feltman are monitoring the situation in Israel. The sender of the email was contacted by an individual who wishes to discuss the situation in Israel and the cancellation of a trip. No formal talking points have been created yet.\n",
      "No information related to Israel has been found in the provided email.\n",
      "The provided email does not contain information related to Israel or Israelis.\n",
      "This email does not contain any content related to Israel.\n",
      "There is no mention of Israel or Israeli in the provided email.\n",
      "This email does not contain any information related to Israel or Israeli.\n",
      "This email does not contain any information related to Israel.\n",
      "This email does not contain any information related to Israel.\n",
      "This email does not mention Israel or any related topics.\n",
      "This email does not contain any information related to Israel or Israelis.\n",
      "**10:00 am TRILATERAL w/ISRAELI PM BINYAMIN NETANYAHU AND\n",
      "(t) 10:30 am PALESTINIAN NATIONAL AUTHORITY PRESIDENT MAHMOUD\n",
      "ABBAS Benjamin Franklin Room, 8`h Floor**\n",
      "\n",
      "**10:30 am (t) TRILAT w/ISFtAELI PM BINYAMIN NETANYAHU, PALESTINIAN\n",
      "(t) 11:30 am NAT'L AUTHORITY PRES. MAHMOUD ABBAS, & SPECIAL\n",
      "ENVOY GEORGE MITCHELL Secretary's Outer Office, 7th Floor**\n",
      "\n",
      "**11:30 am (t) BILATERAL w/ ISRAELI PM BINYAMIN NETANYAHU AND\n",
      "(t) 12:30 pm PALESTINIAN NATIONAL AUTHORITY PRESIDENT MAHMOUD\n",
      "ABBAS Secretary's Outer Office, 7th Floor**\n",
      "There is no mention of Israel or Israeli in the provided email.\n",
      "**Summary:**\n",
      "\n",
      "Tomorrow's joint interview with Israeli media outlet Channel 2 and Palestinian interviewers is under threat of cancellation due to undisclosed reasons. There is high anticipation for the interview, and cancellation could have negative consequences, including:\n",
      "\n",
      "* Disappointment for the Israeli and Palestinian interviewers who have made significant sacrifices to stay for the interview.\n",
      "* Negative media attention, as both Israeli and Palestinian outlets have already widely publicized the interview.\n",
      "* Damage to the intended positive symbolism of the interview, especially if cancellation is perceived as a slight against Channel 2.\n",
      "\n",
      "The email strongly objects to cancellation, citing the potential risks and recommending alternative arrangements with Channel 2 in Jerusalem in two weeks to compensate for any cancellation.\n",
      "There is no mention of Israel in the email provided.\n",
      "9:15 am Secretary's Conference Room\n",
      "9:15 am JOINT TAPED INTERVIEW w/UDI SEGAL, ISRAELI CHANNEL 2; & AMIRAH\n",
      "HANANIA RISHMAWI, PALESTINIAN TV Thomas Jefferson Room, 8.Floor\n"
     ]
    },
    {
     "name": "stderr",
     "output_type": "stream",
     "text": [
      "Retrying langchain_google_genai.chat_models._chat_with_retry.<locals>._chat_with_retry in 2.0 seconds as it raised ResourceExhausted: 429 Resource has been exhausted (e.g. check quota)..\n"
     ]
    },
    {
     "name": "stdout",
     "output_type": "stream",
     "text": [
      "The provided email does not contain any information or requests related to Israel or Israelis.\n"
     ]
    },
    {
     "name": "stderr",
     "output_type": "stream",
     "text": [
      "Retrying langchain_google_genai.chat_models._chat_with_retry.<locals>._chat_with_retry in 4.0 seconds as it raised ResourceExhausted: 429 Resource has been exhausted (e.g. check quota)..\n",
      "Retrying langchain_google_genai.chat_models._chat_with_retry.<locals>._chat_with_retry in 8.0 seconds as it raised ResourceExhausted: 429 Resource has been exhausted (e.g. check quota)..\n",
      "Retrying langchain_google_genai.chat_models._chat_with_retry.<locals>._chat_with_retry in 16.0 seconds as it raised ResourceExhausted: 429 Resource has been exhausted (e.g. check quota)..\n"
     ]
    },
    {
     "name": "stdout",
     "output_type": "stream",
     "text": [
      "The provided text does not contain any emails.\n",
      "This email does not contain any information about Israel or Israelis.\n",
      "There is no mention of Israel in the provided email.\n",
      "This email does not contain any information related to Israel or Israeli affairs.\n",
      "This email does not contain any information related to Israel or Israelis.\n",
      "No relevant information regarding Israel in the provided context.\n",
      "The email discusses potential topics for a psychology dinner, but there is no mention of Israel or Israeli-related topics.\n",
      "No relevant content about Israel in the provided email.\n",
      "The provided email does not contain any information related to Israel or Israelis.\n",
      "This email contains an unsolicited opinion piece written by three American foreign policy analysts, Chester A. Crocker, Scott B. Lasensky, and Samuel W. Lewis. The op-ed advocates for a more proactive American role in the Middle East peace process by publicly declaring a set of principles for a negotiated settlement. While the op-ed focuses on the broader Middle East peace process, it does mention the importance of engaging with sponsors of the Arab Peace Initiative and reasserting the significance of a regional support structure for bilateral negotiations, which could potentially include Israel.\n",
      "This email does not contain any information related to Israel.\n",
      "This email does not contain any information related to Israel.\n",
      "I cannot find any information related to Israel in the provided email.\n",
      "**Summary:**\n",
      "\n",
      "The email recommends that the recipient conduct two TV interviews before leaving Washington, D.C.: one with Channel 2 (Israel) and one with Al Jazeera. The possibility of a simultaneous interview with both outlets is mentioned as a creative option.\n",
      "This email does not contain any information related to Israel or Israeli.\n"
     ]
    },
    {
     "name": "stderr",
     "output_type": "stream",
     "text": [
      "Retrying langchain_google_genai.chat_models._chat_with_retry.<locals>._chat_with_retry in 2.0 seconds as it raised ResourceExhausted: 429 Resource has been exhausted (e.g. check quota)..\n"
     ]
    },
    {
     "name": "stdout",
     "output_type": "stream",
     "text": [
      "No information related to Israel or Israelis was found in the provided email.\n"
     ]
    },
    {
     "name": "stderr",
     "output_type": "stream",
     "text": [
      "Retrying langchain_google_genai.chat_models._chat_with_retry.<locals>._chat_with_retry in 4.0 seconds as it raised ResourceExhausted: 429 Resource has been exhausted (e.g. check quota)..\n",
      "Retrying langchain_google_genai.chat_models._chat_with_retry.<locals>._chat_with_retry in 8.0 seconds as it raised ResourceExhausted: 429 Resource has been exhausted (e.g. check quota)..\n"
     ]
    },
    {
     "name": "stdout",
     "output_type": "stream",
     "text": [
      "This email does not contain any information related to Israel.\n",
      "The provided email does not contain any information related to Israel.\n",
      "I am unable to complete the requested summary, as the provided email does not contain any information related to Israel or Israeli. The article provides an overview of the Tea Party movement in the United States during the first 20 months of Barack Obama's presidency.\n",
      "The provided message does not contain any information related to Israel; therefore, I cannot extract the requested summary.\n",
      "I cannot locate any mention of Israel in the provided email and therefore have no summary to provide.\n",
      "The provided email does not contain any information related to Israel or Israeli.\n"
     ]
    },
    {
     "name": "stderr",
     "output_type": "stream",
     "text": [
      "Retrying langchain_google_genai.chat_models._chat_with_retry.<locals>._chat_with_retry in 2.0 seconds as it raised ResourceExhausted: 429 Resource has been exhausted (e.g. check quota)..\n"
     ]
    },
    {
     "name": "stdout",
     "output_type": "stream",
     "text": [
      "This email does not contain any information related to Israel or Israeli individuals.\n"
     ]
    },
    {
     "name": "stderr",
     "output_type": "stream",
     "text": [
      "Retrying langchain_google_genai.chat_models._chat_with_retry.<locals>._chat_with_retry in 4.0 seconds as it raised ResourceExhausted: 429 Resource has been exhausted (e.g. check quota)..\n",
      "Retrying langchain_google_genai.chat_models._chat_with_retry.<locals>._chat_with_retry in 8.0 seconds as it raised ResourceExhausted: 429 Resource has been exhausted (e.g. check quota)..\n",
      "Retrying langchain_google_genai.chat_models._chat_with_retry.<locals>._chat_with_retry in 16.0 seconds as it raised ResourceExhausted: 429 Resource has been exhausted (e.g. check quota)..\n"
     ]
    },
    {
     "name": "stdout",
     "output_type": "stream",
     "text": [
      "The provided email does not contain any information related to Israel or Israelis.\n",
      "I cannot find any information related to Israel in the provided email.\n",
      "The provided email does not contain any information related to Israel.\n",
      "There is no mention of Israel or Israeli in the provided email.\n",
      "**Key Points and Analysis:**\n",
      "\n",
      "* **Netanyahu's Position:** Netanyahu is politically stable with a strong ruling coalition, allowing him to garner support for extending the settlement freeze without causing his government to fall.\n",
      "\n",
      "* **Lieberman's Influence:** Lieberman is Netanyahu's main concern within the government. Netanyahu fears Lieberman will join forces with right-wing elements to oppose peacemaking.\n",
      "\n",
      "* **Kadima's Willingness:** Tzipi Livni states that her party, Kadima, is willing to join the government and negotiate peace, without demanding rotation in leadership.\n",
      "\n",
      "* **Time Constraints:** The longer Netanyahu delays a peace deal with Abu Mazen, the less leverage he has over Lieberman and the more likely Lieberman will oppose him in future elections.\n",
      "\n",
      "* **Netanyahu's Negotiating Tactics:** Netanyahu's inflated demands and belief in his negotiating skills are seen as counterproductive. He raises expectations and humiliates negotiating partners, making it difficult to find common ground.\n",
      "\n",
      "* **Creative Ideas:** Netanyahu's introduction of \"creative ideas\" is believed to delay negotiations by expanding the parameters beyond what is necessary.\n",
      "\n",
      "* **Palestinian Motivation:** Yuval Diskin warns that if Netanyahu does not demonstrate seriousness to Abu Mazen, Palestinian security services may lose their motivation to prevent terror due to disillusionment with state-building prospects.\n",
      "\n",
      "* **Consequences of Netanyahu's Tactics:** Diskin suggests that continued delay may force Abu Mazen and Salam Fayyad to resign, leading to an uncertain future of Palestinian leadership.\n",
      "\n",
      "* **Recommendations for U.S. Action:**\n",
      "\n",
      "    * **Engage with Netanyahu:** Work with him to nudge him forward but challenge his political fears and inflated demands.\n",
      "    * **Emphasize Counterproductive Tactics:** Explain how Netanyahu's negotiating tactics undermine his own goals.\n",
      "    * **Highlight Strategic Consequences:** Outline the potential consequences of Netanyahu's actions on the Palestinian leadership and stability.\n",
      "    * **Avoid Recriminations:** In case of failure, avoid blaming others and reiterate commitment to a negotiated solution.\n",
      "    * **Keep the Door Open:** Despite challenges, keep diplomatic channels open as all parties involved will eventually return to the table.\n",
      "Your request does not contain any email content to analyze. Please provide the email content so I can distill the key points and information related to Israel.\n",
      "This email does not contain any specific information or requests related to Israel.\n",
      "No information about Israel is present in the provided email.\n",
      "**Summary:**\n",
      "\n",
      "Israel's national rescue service reports approximately 40 fatalities resulting from a significant forest fire in northern Israel. The fire, which has ravaged around 1,600 acres, remains uncontrolled.\n",
      "No mention of Israel or Israeli-related content found in the provided email.\n",
      "9:00 am MEETING w/ISRAELI CHIEF NEGOTIATOR YITZHAK MOLHO\n",
      "Results have been saved to results_email_summary.txt\n"
     ]
    }
   ],
   "source": [
    "output_parser = StrOutputParser()\n",
    "chain = prompt | model | output_parser\n",
    "\n",
    "with open(r\".\\role_email_summarization.txt\", \"r\") as file:\n",
    "    role = file.read()\n",
    "\n",
    "# Open the email_israel.txt file and read each line\n",
    "with open(r\".\\email_israel.txt\", \"r\") as file:\n",
    "    provided_data_lines = file.readlines()\n",
    "\n",
    "# Open the start.txt file and read its content\n",
    "with open(r\".\\start_email_summarization.txt\", \"r\") as file:\n",
    "    start = file.read()\n",
    "\n",
    "# Initialize a list to store the results\n",
    "results = []\n",
    "\n",
    "# Process each line from the email_israel.txt file\n",
    "# Open a new file to save the results\n",
    "with open(r\".\\results_email_summary.txt\", \"w\") as result_file:\n",
    "    # Process each line from the email_israel.txt file\n",
    "    for line in provided_data_lines:\n",
    "        try:\n",
    "            result = chain.invoke(\n",
    "                {\n",
    "                    \"role\": role,\n",
    "                    \"provided_data\": line.strip(),\n",
    "                    \"start\": start,\n",
    "                }\n",
    "            )\n",
    "            print(result)\n",
    "            # Write the result to the results file\n",
    "            if \"not contain any\" not in result:\n",
    "                result_file.write(result + \"\\n\")\n",
    "        except Exception as e:\n",
    "            # Print the error message and continue with the next line\n",
    "            print(f\"Error processing line: {line.strip()}\\n{e}\")\n",
    "            continue\n",
    "\n",
    "\n",
    "print(\"Results have been saved to results_email_summary.txt\")"
   ]
  }
 ],
 "metadata": {
  "kernelspec": {
   "display_name": "Python 3",
   "language": "python",
   "name": "python3"
  },
  "language_info": {
   "codemirror_mode": {
    "name": "ipython",
    "version": 3
   },
   "file_extension": ".py",
   "mimetype": "text/x-python",
   "name": "python",
   "nbconvert_exporter": "python",
   "pygments_lexer": "ipython3",
   "version": "3.9.18"
  }
 },
 "nbformat": 4,
 "nbformat_minor": 2
}
