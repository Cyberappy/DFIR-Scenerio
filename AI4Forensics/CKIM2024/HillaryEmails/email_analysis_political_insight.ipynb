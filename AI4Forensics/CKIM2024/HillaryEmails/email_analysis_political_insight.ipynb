{
 "cells": [
  {
   "cell_type": "code",
   "execution_count": 20,
   "metadata": {},
   "outputs": [],
   "source": [
    "# pip -q install google-generativeai==0.3.0\n",
    "# pip -q install google-ai-generativelanguage==0.4.0\n",
    "# pip install python-dotenv\n",
    "# pip install --upgrade langchain\n",
    "# pip -q install langchain_experimental langchain_core\n",
    "# pip -q install langchain-google-genai\n",
    "# pip show langchain langchain-core\n",
    "# pip install python-pptxy\n",
    "\n",
    "\n",
    "import numpy as np\n",
    "import os\n",
    "import re\n",
    "import datetime\n",
    "import time\n",
    "import tenacity\n",
    "import argparse\n",
    "import configparser\n",
    "import json\n",
    "import tiktoken\n",
    "import jieba\n",
    "from collections import namedtuple\n",
    "\n",
    "# setup\n",
    "import google.generativeai as genai\n",
    "\n",
    "from IPython.display import display\n",
    "from IPython.display import Markdown\n",
    "\n",
    "import os\n",
    "from dotenv import load_dotenv\n",
    "\n",
    "# Load environment variables from the .env file\n",
    "load_dotenv(\"my_config.env\")\n",
    "\n",
    "# Access the environment variables\n",
    "GOOGLE_AI_STUDIO = os.getenv(\"GOOGLE_AI_STUDIO2\")\n",
    "genai.configure(api_key=GOOGLE_AI_STUDIO )"
   ]
  },
  {
   "cell_type": "code",
   "execution_count": 21,
   "metadata": {},
   "outputs": [],
   "source": [
    "# Set up the model\n",
    "generation_config = {\n",
    "  \"temperature\": 0.0,\n",
    "  \"top_p\": 1,\n",
    "  \"top_k\": 32,\n",
    "  \"max_output_tokens\": 4096,\n",
    "}\n",
    "\n",
    "safety_settings = [\n",
    "    {\"category\": \"HARM_CATEGORY_HARASSMENT\", \"threshold\": \"BLOCK_NONE\"},\n",
    "    {\"category\": \"HARM_CATEGORY_HATE_SPEECH\", \"threshold\": \"BLOCK_NONE\"},\n",
    "    {\"category\": \"HARM_CATEGORY_SEXUALLY_EXPLICIT\", \"threshold\": \"BLOCK_NONE\"},\n",
    "    {\"category\": \"HARM_CATEGORY_DANGEROUS_CONTENT\", \"threshold\": \"BLOCK_NONE\"},\n",
    "]"
   ]
  },
  {
   "cell_type": "code",
   "execution_count": 22,
   "metadata": {},
   "outputs": [],
   "source": [
    "# read a paper\n",
    "from langchain_google_genai import ChatGoogleGenerativeAI\n",
    "from langchain.prompts import ChatPromptTemplate\n",
    "from langchain_core.output_parsers import StrOutputParser\n",
    "\n",
    "model = ChatGoogleGenerativeAI(\n",
    "    model=\"gemini-pro\",\n",
    "    generation_config=generation_config,\n",
    "    safety_settings=safety_settings,\n",
    "    google_api_key=GOOGLE_AI_STUDIO,\n",
    ")\n",
    "\n",
    "\n",
    "template = \"\"\" \n",
    "{role}\\\n",
    "{provided_data}\\\n",
    "{start} \n",
    "\"\"\"\n",
    "prompt = ChatPromptTemplate.from_template(template)"
   ]
  },
  {
   "cell_type": "code",
   "execution_count": 23,
   "metadata": {},
   "outputs": [
    {
     "data": {
      "text/markdown": [
       "**Sure, here are some political insights based on the leaked email summaries obtained from Hillary Clinton's private email server that are related to Israel:**\n",
       "\n",
       "* **Israel's settlement policy is a major obstacle to peace.** This is evident from the fact that the Obama administration repeatedly urged Israel to freeze settlement construction, but Israel refused. Netanyahu was under pressure from right-wing parties in his coalition government to block the renewal of the settlement freeze policy, and he ultimately chose not to extend it. This decision was seen as a major setback to US peacemaking efforts.\n",
       "* **Netanyahu's negotiating tactics are self-defeating.** Netanyahu's approach to negotiations with the Palestinians has been criticized by many, including former Shin Bet chief Yuval Diskin. Diskin warned that Netanyahu's tactics were contributing to distrust on the Palestinian side and making it more difficult to reach a peace agreement.\n",
       "* **The Israeli public is ready for a peace deal.** This is evident from the fact that Kadima leader Tzipi Livni was willing to bring her party into the government without demanding rotation if Netanyahu was serious about negotiating peace. However, Netanyahu's failure to make a serious move towards peace could further delegitimize Israel internationally.\n",
       "* **The US-Israel relationship is strong, but it is also complex.** The emails show that the US and Israel have a close relationship, but they also have disagreements on a number of issues, including the settlement issue. The US has been critical of Israel's settlement policy, and it has also urged Israel to take steps to improve the humanitarian situation in Gaza.\n",
       "* **The US is committed to a two-state solution.** This is evident from the fact that the US has repeatedly called for a two-state solution to the Israeli-Palestinian conflict. The US believes that a two-state solution is the only way to achieve a lasting peace in the region.\n",
       "\n",
       "These are just a few of the political insights that can be gleaned from the leaked email summaries. These emails provide a valuable glimpse into the US-Israel relationship and the challenges to peace in the Middle East."
      ],
      "text/plain": [
       "<IPython.core.display.Markdown object>"
      ]
     },
     "execution_count": 23,
     "metadata": {},
     "output_type": "execute_result"
    }
   ],
   "source": [
    "output_parser = StrOutputParser()\n",
    "chain = prompt | model | output_parser\n",
    "\n",
    "with open(r\".\\role_political_analyst.txt\", \"r\") as file:\n",
    "    role = file.read()\n",
    "\n",
    "with open(r\".\\results_email_summary.txt\", \"r\") as file:\n",
    "    provided_data = file.read()\n",
    "\n",
    "with open(r\".\\start_political_analyst.txt\", \"r\") as file:\n",
    "    start = file.read()\n",
    "\n",
    "\n",
    "result = chain.invoke(\n",
    "    {\n",
    "        \"role\": role,\n",
    "        \"provided_data\": provided_data,\n",
    "        \"start\": start,\n",
    "    }\n",
    ")\n",
    "Markdown(result)"
   ]
  },
  {
   "cell_type": "code",
   "execution_count": 24,
   "metadata": {},
   "outputs": [
    {
     "name": "stdout",
     "output_type": "stream",
     "text": [
      "File saved successfully.\n"
     ]
    }
   ],
   "source": [
    "# Open a file for writing ('w' mode) and create it if it doesn't exist\n",
    "with open(r\".\\result_political.txt\", \"w\") as file:\n",
    "    # Write content to the file\n",
    "    file.write(result)\n",
    "\n",
    "print(\"File saved successfully.\")"
   ]
  },
  {
   "cell_type": "code",
   "execution_count": null,
   "metadata": {},
   "outputs": [],
   "source": []
  }
 ],
 "metadata": {
  "kernelspec": {
   "display_name": "Python 3",
   "language": "python",
   "name": "python3"
  },
  "language_info": {
   "codemirror_mode": {
    "name": "ipython",
    "version": 3
   },
   "file_extension": ".py",
   "mimetype": "text/x-python",
   "name": "python",
   "nbconvert_exporter": "python",
   "pygments_lexer": "ipython3",
   "version": "3.9.18"
  }
 },
 "nbformat": 4,
 "nbformat_minor": 2
}
