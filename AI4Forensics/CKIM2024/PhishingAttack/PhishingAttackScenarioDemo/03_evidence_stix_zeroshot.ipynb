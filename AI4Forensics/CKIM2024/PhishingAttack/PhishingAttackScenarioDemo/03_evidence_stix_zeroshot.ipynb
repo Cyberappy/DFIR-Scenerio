{
 "cells": [
  {
   "cell_type": "code",
   "execution_count": 1,
   "metadata": {},
   "outputs": [],
   "source": [
    "#!pip install graphviz\n",
    "\n",
    "import dspy\n",
    "import os\n",
    "import openai\n",
    "import json\n",
    "from dotenv import load_dotenv\n",
    "from IPython.display import display"
   ]
  },
  {
   "cell_type": "code",
   "execution_count": 2,
   "metadata": {},
   "outputs": [],
   "source": [
    "def set_dspy():\n",
    "    # ==============set openAI enviroment=========\n",
    "    # Path to your API key file\n",
    "    key_file_path = \"openai_api_key.txt\"\n",
    "\n",
    "    # Load the API key from the file\n",
    "    with open(key_file_path, \"r\") as file:\n",
    "        openai_api_key = file.read().strip()\n",
    "\n",
    "    # Set the API key as an environment variable\n",
    "    os.environ[\"OPENAI_API_KEY\"] = openai_api_key\n",
    "    openai.api_key = os.environ[\"OPENAI_API_KEY\"]\n",
    "    turbo = dspy.OpenAI(model=\"gpt-3.5-turbo\", max_tokens=2000, temperature=0.5)\n",
    "    dspy.settings.configure(lm=turbo)\n",
    "    return turbo\n",
    "    # ==============end of set openAI enviroment=========\n",
    "\n",
    "\n",
    "def set_dspy_hardcode_openai_key():\n",
    "    os.environ[\"OPENAI_API_KEY\"] = (\n",
    "        \"sk-proj-yourapikeyhere\"\n",
    "    )\n",
    "    openai.api_key = os.environ[\"OPENAI_API_KEY\"]\n",
    "    turbo = dspy.OpenAI(model=\"gpt-3.5-turbo\",  temperature=0, max_tokens=2000)\n",
    "    dspy.settings.configure(lm=turbo)\n",
    "    return turbo\n",
    "\n",
    "turbo=set_dspy()\n",
    "# comment out set_dspy() and use set_dspy_hardcode_openai_key is your option\n",
    "# turbo=set_dspy_hardcode_openai_key()"
   ]
  },
  {
   "cell_type": "code",
   "execution_count": 3,
   "metadata": {},
   "outputs": [],
   "source": [
    "def load_text_file(file_path):\n",
    "    \"\"\"\n",
    "    Load a text file and return its contents as a string.\n",
    "\n",
    "    Parameters:\n",
    "    file_path (str): The path to the text file.\n",
    "\n",
    "    Returns:\n",
    "    str: The contents of the text file.\n",
    "    \"\"\"\n",
    "    try:\n",
    "        with open(file_path, \"r\") as file:\n",
    "            contents = file.read()\n",
    "        return contents\n",
    "    except FileNotFoundError:\n",
    "        return \"File not found.\"\n",
    "    except Exception as e:\n",
    "        return f\"An error occurred: {e}\"\n"
   ]
  },
  {
   "cell_type": "code",
   "execution_count": 4,
   "metadata": {},
   "outputs": [
    {
     "name": "stdout",
     "output_type": "stream",
     "text": [
      "Alice: Hey Bob, I just got a strange email from support@banksecure.com. It says I need to verify my account details urgently. The subject line was \"Urgent: Verify Your Account Now\". The email looks suspicious to me.\n",
      "\n",
      "Bob: Hi Alice, that does sound fishy. Can you forward me the email? I’ll take a look at the headers to see where it came from.\n",
      "\n",
      "Alice: Sure, forwarding it now.\n",
      "\n",
      "Bob: Got it. Let’s see... The email came from IP address 192.168.10.45, but the domain banksecure.com is not their official domain. It's actually registered to someone in Russia.\n",
      "\n",
      "Alice: That’s definitely not right. Should I be worried?\n",
      "\n",
      "Bob: We should investigate further. Did you click on any links or download any attachments?\n",
      "\n",
      "Alice: I did click on a link that took me to a page asking for my login credentials. I didn't enter anything though. The URL was http://banksecure-verification.com/login.\n",
      "\n",
      "Bob: Good call on not entering your details. Let’s check the URL. This domain was just registered two days ago. It’s highly likely it’s a phishing site.\n",
      "\n",
      "Alice: What should I do next?\n",
      "\n",
      "Bob: First, clear your browser history and cache. Also, run a full antivirus scan on your computer. Can you also provide me with any browser history entries and cookies from that session?\n",
      "\n",
      "Alice: I’ve cleared the history and started the antivirus scan. Here are the relevant entries from my browser history:\n",
      "Visited at 10:15 AM: http://banksecure-verification.com/login\n",
      "Visited at 10:17 AM: http://banksecure-verification.com/account-details\n",
      "\n",
      "Bob: Thanks. I’ll analyze these URLs further. Also, check if there are any suspicious files downloaded or present in your downloads folder. Look for anything unusual.\n",
      "\n",
      "Alice: There's a file named \"AccountDetails.exe\" that I don’t remember downloading. It was created at 10:20 AM.\n",
      "\n",
      "Bob: Definitely suspicious. Don’t open it. Let’s hash the file to verify its integrity. Can you run an MD5 hash on it?\n",
      "\n",
      "Alice: Done. The MD5 hash is e99a18c428cb38d5f260853678922e03.\n",
      "\n",
      "Bob: This hash matches known malware in our database. We’ll need to quarantine it and check if it has established any network connections. I’ll look into our network logs for the IP 192.168.10.45 around 10:20 AM.\n",
      "\n",
      "Alice: Is there anything else I need to do?\n",
      "\n",
      "Bob: For now, avoid using your computer for sensitive tasks. We’ll also reset your passwords from a different device and enable two-factor authentication on your accounts.\n",
      "\n",
      "Alice: Thanks, Bob. I’ll follow these steps immediately.\n"
     ]
    }
   ],
   "source": [
    "conversation=load_text_file(\"conversation.txt\")\n",
    "print(conversation)"
   ]
  },
  {
   "cell_type": "code",
   "execution_count": 5,
   "metadata": {},
   "outputs": [],
   "source": [
    "class SITXGenerator(dspy.Signature):\n",
    "    \"\"\"Describe a conversation in STIX, which stands for Structured Threat Information eXpression, is a standardized language for representing cyber threat information.\"\"\"\n",
    "\n",
    "    question: str = dspy.InputField(\n",
    "        desc=\"a conversation describing a cyber incident between an IT Security Specialist and an employee.\"\n",
    "    )\n",
    "\n",
    "    answer: str = dspy.OutputField(\n",
    "        desc=\"the formalized STIX in JSON representing cyber threat information based on the conversation, e.g., [{object 1}, {object 2}, ... {object n}]\"\n",
    "    )"
   ]
  },
  {
   "cell_type": "code",
   "execution_count": 6,
   "metadata": {},
   "outputs": [],
   "source": [
    "def generate_answer_CoT(signature, conversation, output_file):\n",
    "    generate_answer = dspy.ChainOfThought(signature)\n",
    "    answer = generate_answer(question=conversation).answer  # here we use the module\n",
    "\n",
    "    with open(output_file, \"w\") as json_file:\n",
    "        result = json.loads(answer)\n",
    "        print(answer)\n",
    "        json.dump(result, json_file, indent=4)\n",
    "    print(f\"The evidence has been saved to the file {output_file}\")"
   ]
  },
  {
   "cell_type": "code",
   "execution_count": 7,
   "metadata": {},
   "outputs": [
    {
     "name": "stdout",
     "output_type": "stream",
     "text": [
      "[\n",
      "  {\n",
      "    \"email\": {\n",
      "      \"sender\": \"support@banksecure.com\",\n",
      "      \"subject\": \"Urgent: Verify Your Account Now\",\n",
      "      \"headers\": {\n",
      "        \"IP_address\": \"192.168.10.45\",\n",
      "        \"domain\": \"banksecure.com\",\n",
      "        \"registered_to\": \"Russia\"\n",
      "      },\n",
      "      \"links_clicked\": [\n",
      "        {\n",
      "          \"URL\": \"http://banksecure-verification.com/login\",\n",
      "          \"timestamp\": \"10:15 AM\"\n",
      "        },\n",
      "        {\n",
      "          \"URL\": \"http://banksecure-verification.com/account-details\",\n",
      "          \"timestamp\": \"10:17 AM\"\n",
      "        }\n",
      "      ],\n",
      "      \"attachments\": [\n",
      "        {\n",
      "          \"file_name\": \"AccountDetails.exe\",\n",
      "          \"created_at\": \"10:20 AM\",\n",
      "          \"MD5_hash\": \"e99a18c428cb38d5f260853678922e03\",\n",
      "          \"status\": \"known_malware\"\n",
      "        }\n",
      "      ]\n",
      "    }\n",
      "  },\n",
      "  {\n",
      "    \"actions_taken\": [\n",
      "      \"Clear browser history and cache\",\n",
      "      \"Run full antivirus scan\",\n",
      "      \"Provide browser history entries and cookies\",\n",
      "      \"Quarantine suspicious file\",\n",
      "      \"Check network connections\",\n",
      "      \"Reset passwords and enable two-factor authentication\"\n",
      "    ]\n",
      "  }\n",
      "]\n",
      "The evidence has been saved to the file 03_output.json\n"
     ]
    }
   ],
   "source": [
    "output_file = \"03_output.json\"\n",
    "generate_answer_CoT(\n",
    "    SITXGenerator,\n",
    "    conversation,\n",
    "    output_file,\n",
    ")"
   ]
  },
  {
   "cell_type": "code",
   "execution_count": 8,
   "metadata": {},
   "outputs": [
    {
     "name": "stdout",
     "output_type": "stream",
     "text": [
      "\n",
      "\n",
      "\n",
      "Describe a conversation in STIX, which stands for Structured Threat Information eXpression, is a standardized language for representing cyber threat information.\n",
      "\n",
      "---\n",
      "\n",
      "Follow the following format.\n",
      "\n",
      "Question: a conversation describing a cyber incident between an IT Security Specialist and an employee.\n",
      "Reasoning: Let's think step by step in order to ${produce the answer}. We ...\n",
      "Answer: the formalized STIX in JSON representing cyber threat information based on the conversation, e.g., [{object 1}, {object 2}, ... {object n}]\n",
      "\n",
      "---\n",
      "\n",
      "Question: Alice: Hey Bob, I just got a strange email from support@banksecure.com. It says I need to verify my account details urgently. The subject line was \"Urgent: Verify Your Account Now\". The email looks suspicious to me. Bob: Hi Alice, that does sound fishy. Can you forward me the email? I’ll take a look at the headers to see where it came from. Alice: Sure, forwarding it now. Bob: Got it. Let’s see... The email came from IP address 192.168.10.45, but the domain banksecure.com is not their official domain. It's actually registered to someone in Russia. Alice: That’s definitely not right. Should I be worried? Bob: We should investigate further. Did you click on any links or download any attachments? Alice: I did click on a link that took me to a page asking for my login credentials. I didn't enter anything though. The URL was http://banksecure-verification.com/login. Bob: Good call on not entering your details. Let’s check the URL. This domain was just registered two days ago. It’s highly likely it’s a phishing site. Alice: What should I do next? Bob: First, clear your browser history and cache. Also, run a full antivirus scan on your computer. Can you also provide me with any browser history entries and cookies from that session? Alice: I’ve cleared the history and started the antivirus scan. Here are the relevant entries from my browser history: Visited at 10:15 AM: http://banksecure-verification.com/login Visited at 10:17 AM: http://banksecure-verification.com/account-details Bob: Thanks. I’ll analyze these URLs further. Also, check if there are any suspicious files downloaded or present in your downloads folder. Look for anything unusual. Alice: There's a file named \"AccountDetails.exe\" that I don’t remember downloading. It was created at 10:20 AM. Bob: Definitely suspicious. Don’t open it. Let’s hash the file to verify its integrity. Can you run an MD5 hash on it? Alice: Done. The MD5 hash is e99a18c428cb38d5f260853678922e03. Bob: This hash matches known malware in our database. We’ll need to quarantine it and check if it has established any network connections. I’ll look into our network logs for the IP 192.168.10.45 around 10:20 AM. Alice: Is there anything else I need to do? Bob: For now, avoid using your computer for sensitive tasks. We’ll also reset your passwords from a different device and enable two-factor authentication on your accounts. Alice: Thanks, Bob. I’ll follow these steps immediately.\n",
      "Reasoning: Let's think step by step in order to produce the answer. We need to formalize the conversation into STIX objects that represent the cyber threat information discussed between Alice and Bob.\n",
      "\n",
      "Answer: \n",
      "[\n",
      "  {\n",
      "    \"email\": {\n",
      "      \"sender\": \"support@banksecure.com\",\n",
      "      \"subject\": \"Urgent: Verify Your Account Now\",\n",
      "      \"headers\": {\n",
      "        \"IP_address\": \"192.168.10.45\",\n",
      "        \"domain\": \"banksecure.com\",\n",
      "        \"registered_to\": \"Russia\"\n",
      "      },\n",
      "      \"links_clicked\": [\n",
      "        {\n",
      "          \"URL\": \"http://banksecure-verification.com/login\",\n",
      "          \"timestamp\": \"10:15 AM\"\n",
      "        },\n",
      "        {\n",
      "          \"URL\": \"http://banksecure-verification.com/account-details\",\n",
      "          \"timestamp\": \"10:17 AM\"\n",
      "        }\n",
      "      ],\n",
      "      \"attachments\": [\n",
      "        {\n",
      "          \"file_name\": \"AccountDetails.exe\",\n",
      "          \"created_at\": \"10:20 AM\",\n",
      "          \"MD5_hash\": \"e99a18c428cb38d5f260853678922e03\",\n",
      "          \"status\": \"known_malware\"\n",
      "        }\n",
      "      ]\n",
      "    }\n",
      "  },\n",
      "  {\n",
      "    \"actions_taken\": [\n",
      "      \"Clear browser history and cache\",\n",
      "      \"Run full antivirus scan\",\n",
      "      \"Provide browser history entries and cookies\",\n",
      "      \"Quarantine suspicious file\",\n",
      "      \"Check network connections\",\n",
      "      \"Reset passwords and enable two-factor authentication\"\n",
      "    ]\n",
      "  }\n",
      "]\n",
      "\n",
      "\n",
      "\n"
     ]
    },
    {
     "data": {
      "text/plain": [
       "'\\n\\n\\nDescribe a conversation in STIX, which stands for Structured Threat Information eXpression, is a standardized language for representing cyber threat information.\\n\\n---\\n\\nFollow the following format.\\n\\nQuestion: a conversation describing a cyber incident between an IT Security Specialist and an employee.\\nReasoning: Let\\'s think step by step in order to ${produce the answer}. We ...\\nAnswer: the formalized STIX in JSON representing cyber threat information based on the conversation, e.g., [{object 1}, {object 2}, ... {object n}]\\n\\n---\\n\\nQuestion: Alice: Hey Bob, I just got a strange email from support@banksecure.com. It says I need to verify my account details urgently. The subject line was \"Urgent: Verify Your Account Now\". The email looks suspicious to me. Bob: Hi Alice, that does sound fishy. Can you forward me the email? I’ll take a look at the headers to see where it came from. Alice: Sure, forwarding it now. Bob: Got it. Let’s see... The email came from IP address 192.168.10.45, but the domain banksecure.com is not their official domain. It\\'s actually registered to someone in Russia. Alice: That’s definitely not right. Should I be worried? Bob: We should investigate further. Did you click on any links or download any attachments? Alice: I did click on a link that took me to a page asking for my login credentials. I didn\\'t enter anything though. The URL was http://banksecure-verification.com/login. Bob: Good call on not entering your details. Let’s check the URL. This domain was just registered two days ago. It’s highly likely it’s a phishing site. Alice: What should I do next? Bob: First, clear your browser history and cache. Also, run a full antivirus scan on your computer. Can you also provide me with any browser history entries and cookies from that session? Alice: I’ve cleared the history and started the antivirus scan. Here are the relevant entries from my browser history: Visited at 10:15 AM: http://banksecure-verification.com/login Visited at 10:17 AM: http://banksecure-verification.com/account-details Bob: Thanks. I’ll analyze these URLs further. Also, check if there are any suspicious files downloaded or present in your downloads folder. Look for anything unusual. Alice: There\\'s a file named \"AccountDetails.exe\" that I don’t remember downloading. It was created at 10:20 AM. Bob: Definitely suspicious. Don’t open it. Let’s hash the file to verify its integrity. Can you run an MD5 hash on it? Alice: Done. The MD5 hash is e99a18c428cb38d5f260853678922e03. Bob: This hash matches known malware in our database. We’ll need to quarantine it and check if it has established any network connections. I’ll look into our network logs for the IP 192.168.10.45 around 10:20 AM. Alice: Is there anything else I need to do? Bob: For now, avoid using your computer for sensitive tasks. We’ll also reset your passwords from a different device and enable two-factor authentication on your accounts. Alice: Thanks, Bob. I’ll follow these steps immediately.\\nReasoning: Let\\'s think step by step in order to\\x1b[32m produce the answer. We need to formalize the conversation into STIX objects that represent the cyber threat information discussed between Alice and Bob.\\n\\nAnswer: \\n[\\n  {\\n    \"email\": {\\n      \"sender\": \"support@banksecure.com\",\\n      \"subject\": \"Urgent: Verify Your Account Now\",\\n      \"headers\": {\\n        \"IP_address\": \"192.168.10.45\",\\n        \"domain\": \"banksecure.com\",\\n        \"registered_to\": \"Russia\"\\n      },\\n      \"links_clicked\": [\\n        {\\n          \"URL\": \"http://banksecure-verification.com/login\",\\n          \"timestamp\": \"10:15 AM\"\\n        },\\n        {\\n          \"URL\": \"http://banksecure-verification.com/account-details\",\\n          \"timestamp\": \"10:17 AM\"\\n        }\\n      ],\\n      \"attachments\": [\\n        {\\n          \"file_name\": \"AccountDetails.exe\",\\n          \"created_at\": \"10:20 AM\",\\n          \"MD5_hash\": \"e99a18c428cb38d5f260853678922e03\",\\n          \"status\": \"known_malware\"\\n        }\\n      ]\\n    }\\n  },\\n  {\\n    \"actions_taken\": [\\n      \"Clear browser history and cache\",\\n      \"Run full antivirus scan\",\\n      \"Provide browser history entries and cookies\",\\n      \"Quarantine suspicious file\",\\n      \"Check network connections\",\\n      \"Reset passwords and enable two-factor authentication\"\\n    ]\\n  }\\n]\\x1b[0m\\n\\n\\n'"
      ]
     },
     "execution_count": 8,
     "metadata": {},
     "output_type": "execute_result"
    }
   ],
   "source": [
    "turbo.inspect_history(n=1)"
   ]
  },
  {
   "cell_type": "code",
   "execution_count": null,
   "metadata": {},
   "outputs": [],
   "source": []
  }
 ],
 "metadata": {
  "kernelspec": {
   "display_name": "Python 3",
   "language": "python",
   "name": "python3"
  },
  "language_info": {
   "codemirror_mode": {
    "name": "ipython",
    "version": 3
   },
   "file_extension": ".py",
   "mimetype": "text/x-python",
   "name": "python",
   "nbconvert_exporter": "python",
   "pygments_lexer": "ipython3",
   "version": "3.12.3"
  }
 },
 "nbformat": 4,
 "nbformat_minor": 2
}
