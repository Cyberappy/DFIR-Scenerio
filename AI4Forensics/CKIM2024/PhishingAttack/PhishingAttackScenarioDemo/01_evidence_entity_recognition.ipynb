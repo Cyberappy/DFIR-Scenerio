{
 "cells": [
  {
   "cell_type": "code",
   "execution_count": 12,
   "metadata": {},
   "outputs": [],
   "source": [
    "#!pip install graphviz\n",
    "\n",
    "import dspy\n",
    "import os\n",
    "import openai\n",
    "import json\n",
    "from dotenv import load_dotenv\n",
    "\n",
    "from graphviz import Digraph\n",
    "from IPython.display import display"
   ]
  },
  {
   "cell_type": "code",
   "execution_count": 13,
   "metadata": {},
   "outputs": [],
   "source": [
    "def set_dspy():\n",
    "    # ==============set openAI enviroment=========\n",
    "    # Path to your API key file\n",
    "    key_file_path = \"openai_api_key.txt\"\n",
    "\n",
    "    # Load the API key from the file\n",
    "    with open(key_file_path, \"r\") as file:\n",
    "        openai_api_key = file.read().strip()\n",
    "\n",
    "    # Set the API key as an environment variable\n",
    "    os.environ[\"OPENAI_API_KEY\"] = openai_api_key\n",
    "    openai.api_key = os.environ[\"OPENAI_API_KEY\"]\n",
    "    turbo = dspy.OpenAI(model=\"gpt-3.5-turbo\", max_tokens=2000, temperature=0.5)\n",
    "    dspy.settings.configure(lm=turbo)\n",
    "    return turbo\n",
    "    # ==============end of set openAI enviroment=========\n",
    "\n",
    "\n",
    "def set_dspy_hardcode_openai_key():\n",
    "    os.environ[\"OPENAI_API_KEY\"] = (\n",
    "        \"sk-proj-yourapikeyhere\"\n",
    "    )\n",
    "    openai.api_key = os.environ[\"OPENAI_API_KEY\"]\n",
    "    turbo = dspy.OpenAI(model=\"gpt-3.5-turbo\",  temperature=0, max_tokens=2000)\n",
    "    dspy.settings.configure(lm=turbo)\n",
    "    return turbo\n",
    "\n",
    "turbo=set_dspy()\n",
    "# comment out set_dspy() and use set_dspy_hardcode_openai_key is your option\n",
    "# turbo=set_dspy_hardcode_openai_key()"
   ]
  },
  {
   "cell_type": "code",
   "execution_count": 14,
   "metadata": {},
   "outputs": [],
   "source": [
    "def load_text_file(file_path):\n",
    "    \"\"\"\n",
    "    Load a text file and return its contents as a string.\n",
    "\n",
    "    Parameters:\n",
    "    file_path (str): The path to the text file.\n",
    "\n",
    "    Returns:\n",
    "    str: The contents of the text file.\n",
    "    \"\"\"\n",
    "    try:\n",
    "        with open(file_path, \"r\") as file:\n",
    "            contents = file.read()\n",
    "        return contents\n",
    "    except FileNotFoundError:\n",
    "        return \"File not found.\"\n",
    "    except Exception as e:\n",
    "        return f\"An error occurred: {e}\"\n"
   ]
  },
  {
   "cell_type": "code",
   "execution_count": 15,
   "metadata": {},
   "outputs": [
    {
     "name": "stdout",
     "output_type": "stream",
     "text": [
      "Alice: Hey Bob, I just got a strange email from support@banksecure.com. It says I need to verify my account details urgently. The subject line was \"Urgent: Verify Your Account Now\". The email looks suspicious to me.\n",
      "\n",
      "Bob: Hi Alice, that does sound fishy. Can you forward me the email? I’ll take a look at the headers to see where it came from.\n",
      "\n",
      "Alice: Sure, forwarding it now.\n",
      "\n",
      "Bob: Got it. Let’s see... The email came from IP address 192.168.10.45, but the domain banksecure.com is not their official domain. It's actually registered to someone in Russia.\n",
      "\n",
      "Alice: That’s definitely not right. Should I be worried?\n",
      "\n",
      "Bob: We should investigate further. Did you click on any links or download any attachments?\n",
      "\n",
      "Alice: I did click on a link that took me to a page asking for my login credentials. I didn't enter anything though. The URL was http://banksecure-verification.com/login.\n",
      "\n",
      "Bob: Good call on not entering your details. Let’s check the URL. This domain was just registered two days ago. It’s highly likely it’s a phishing site.\n",
      "\n",
      "Alice: What should I do next?\n",
      "\n",
      "Bob: First, clear your browser history and cache. Also, run a full antivirus scan on your computer. Can you also provide me with any browser history entries and cookies from that session?\n",
      "\n",
      "Alice: I’ve cleared the history and started the antivirus scan. Here are the relevant entries from my browser history:\n",
      "Visited at 10:15 AM: http://banksecure-verification.com/login\n",
      "Visited at 10:17 AM: http://banksecure-verification.com/account-details\n",
      "\n",
      "Bob: Thanks. I’ll analyze these URLs further. Also, check if there are any suspicious files downloaded or present in your downloads folder. Look for anything unusual.\n",
      "\n",
      "Alice: There's a file named \"AccountDetails.exe\" that I don’t remember downloading. It was created at 10:20 AM.\n",
      "\n",
      "Bob: Definitely suspicious. Don’t open it. Let’s hash the file to verify its integrity. Can you run an MD5 hash on it?\n",
      "\n",
      "Alice: Done. The MD5 hash is e99a18c428cb38d5f260853678922e03.\n",
      "\n",
      "Bob: This hash matches known malware in our database. We’ll need to quarantine it and check if it has established any network connections. I’ll look into our network logs for the IP 192.168.10.45 around 10:20 AM.\n",
      "\n",
      "Alice: Is there anything else I need to do?\n",
      "\n",
      "Bob: For now, avoid using your computer for sensitive tasks. We’ll also reset your passwords from a different device and enable two-factor authentication on your accounts.\n",
      "\n",
      "Alice: Thanks, Bob. I’ll follow these steps immediately.\n"
     ]
    }
   ],
   "source": [
    "conversation=load_text_file(\"conversation.txt\")\n",
    "print(conversation)"
   ]
  },
  {
   "cell_type": "code",
   "execution_count": 16,
   "metadata": {},
   "outputs": [],
   "source": [
    "class EvidenceIdentifier(dspy.Signature):\n",
    "    \"\"\"Idenitfy evidence entities from a conversation between -Alex (IT Security Specialist) and Taylor (Employee).\"\"\"\n",
    "\n",
    "    question = dspy.InputField(\n",
    "        desc=\"a conversation between -Alex (IT Security Specialist) and Bob (Employee).\"\n",
    "    )\n",
    "    answer = dspy.OutputField(\n",
    "        desc=\"a list of evidence, inlcuding but not limited to emaile, IP address, URL, File name, timestamps, etc, in the conversation as a Python dictionary. For example, {evidence type: evidence value, ...}\"\n",
    "    )"
   ]
  },
  {
   "cell_type": "code",
   "execution_count": 17,
   "metadata": {},
   "outputs": [],
   "source": [
    "def generate_answer(signature, conversation, output_file):\n",
    "    generate_answer = dspy.Predict(signature)\n",
    "    answer=generate_answer(question=conversation).answer  # here we use the module\n",
    "\n",
    "    with open(output_file, \"w\") as json_file:\n",
    "        result = json.loads(answer)\n",
    "        print(result)\n",
    "        json.dump(result, json_file, indent=4)\n",
    "    print(f\"The evidence has been saved to the file {output_file}\")"
   ]
  },
  {
   "cell_type": "code",
   "execution_count": 18,
   "metadata": {},
   "outputs": [
    {
     "name": "stdout",
     "output_type": "stream",
     "text": [
      "{'Email From': 'support@banksecure.com', 'Email Subject': 'Urgent: Verify Your Account Now', 'IP Address': '192.168.10.45', 'Domain': 'banksecure.com', 'Actual Domain Registration': 'Russia', 'URL Clicked': 'http://banksecure-verification.com/login', 'URL Visited 1': 'http://banksecure-verification.com/login', 'URL Visited 2': 'http://banksecure-verification.com/account-details', 'File Downloaded': 'AccountDetails.exe', 'File Creation Time': '10:20 AM', 'MD5 Hash': 'e99a18c428cb38d5f260853678922e03', 'Network Logs Timestamp': '10:20 AM'}\n",
      "The evidence has been saved to the file 01_output_evidence_entity.txt\n"
     ]
    }
   ],
   "source": [
    "output_file = \"01_output_entity.txt\"\n",
    "generate_answer(\n",
    "    EvidenceIdentifier, conversation, \n",
    "    output_file,\n",
    ")"
   ]
  },
  {
   "cell_type": "code",
   "execution_count": 19,
   "metadata": {},
   "outputs": [
    {
     "name": "stdout",
     "output_type": "stream",
     "text": [
      "\n",
      "\n",
      "\n",
      "Idenitfy evidence entities from a conversation between -Alex (IT Security Specialist) and Taylor (Employee).\n",
      "\n",
      "---\n",
      "\n",
      "Follow the following format.\n",
      "\n",
      "Question: a conversation between -Alex (IT Security Specialist) and Bob (Employee).\n",
      "Answer: a list of evidence, inlcuding but not limited to emaile, IP address, URL, File name, timestamps, etc, in the conversation as a Python dictionary. For example, {evidence type: evidence value, ...}\n",
      "\n",
      "---\n",
      "\n",
      "Question: Alice: Hey Bob, I just got a strange email from support@banksecure.com. It says I need to verify my account details urgently. The subject line was \"Urgent: Verify Your Account Now\". The email looks suspicious to me. Bob: Hi Alice, that does sound fishy. Can you forward me the email? I’ll take a look at the headers to see where it came from. Alice: Sure, forwarding it now. Bob: Got it. Let’s see... The email came from IP address 192.168.10.45, but the domain banksecure.com is not their official domain. It's actually registered to someone in Russia. Alice: That’s definitely not right. Should I be worried? Bob: We should investigate further. Did you click on any links or download any attachments? Alice: I did click on a link that took me to a page asking for my login credentials. I didn't enter anything though. The URL was http://banksecure-verification.com/login. Bob: Good call on not entering your details. Let’s check the URL. This domain was just registered two days ago. It’s highly likely it’s a phishing site. Alice: What should I do next? Bob: First, clear your browser history and cache. Also, run a full antivirus scan on your computer. Can you also provide me with any browser history entries and cookies from that session? Alice: I’ve cleared the history and started the antivirus scan. Here are the relevant entries from my browser history: Visited at 10:15 AM: http://banksecure-verification.com/login Visited at 10:17 AM: http://banksecure-verification.com/account-details Bob: Thanks. I’ll analyze these URLs further. Also, check if there are any suspicious files downloaded or present in your downloads folder. Look for anything unusual. Alice: There's a file named \"AccountDetails.exe\" that I don’t remember downloading. It was created at 10:20 AM. Bob: Definitely suspicious. Don’t open it. Let’s hash the file to verify its integrity. Can you run an MD5 hash on it? Alice: Done. The MD5 hash is e99a18c428cb38d5f260853678922e03. Bob: This hash matches known malware in our database. We’ll need to quarantine it and check if it has established any network connections. I’ll look into our network logs for the IP 192.168.10.45 around 10:20 AM. Alice: Is there anything else I need to do? Bob: For now, avoid using your computer for sensitive tasks. We’ll also reset your passwords from a different device and enable two-factor authentication on your accounts. Alice: Thanks, Bob. I’ll follow these steps immediately.\n",
      "Answer: {\n",
      "  \"Email From\": \"support@banksecure.com\",\n",
      "  \"Email Subject\": \"Urgent: Verify Your Account Now\",\n",
      "  \"IP Address\": \"192.168.10.45\",\n",
      "  \"Domain\": \"banksecure.com\",\n",
      "  \"Actual Domain Registration\": \"Russia\",\n",
      "  \"URL Clicked\": \"http://banksecure-verification.com/login\",\n",
      "  \"URL Visited 1\": \"http://banksecure-verification.com/login\",\n",
      "  \"URL Visited 2\": \"http://banksecure-verification.com/account-details\",\n",
      "  \"File Downloaded\": \"AccountDetails.exe\",\n",
      "  \"File Creation Time\": \"10:20 AM\",\n",
      "  \"MD5 Hash\": \"e99a18c428cb38d5f260853678922e03\",\n",
      "  \"Network Logs Timestamp\": \"10:20 AM\"\n",
      "}\n",
      "\n",
      "\n",
      "\n"
     ]
    },
    {
     "data": {
      "text/plain": [
       "'\\n\\n\\nIdenitfy evidence entities from a conversation between -Alex (IT Security Specialist) and Taylor (Employee).\\n\\n---\\n\\nFollow the following format.\\n\\nQuestion: a conversation between -Alex (IT Security Specialist) and Bob (Employee).\\nAnswer: a list of evidence, inlcuding but not limited to emaile, IP address, URL, File name, timestamps, etc, in the conversation as a Python dictionary. For example, {evidence type: evidence value, ...}\\n\\n---\\n\\nQuestion: Alice: Hey Bob, I just got a strange email from support@banksecure.com. It says I need to verify my account details urgently. The subject line was \"Urgent: Verify Your Account Now\". The email looks suspicious to me. Bob: Hi Alice, that does sound fishy. Can you forward me the email? I’ll take a look at the headers to see where it came from. Alice: Sure, forwarding it now. Bob: Got it. Let’s see... The email came from IP address 192.168.10.45, but the domain banksecure.com is not their official domain. It\\'s actually registered to someone in Russia. Alice: That’s definitely not right. Should I be worried? Bob: We should investigate further. Did you click on any links or download any attachments? Alice: I did click on a link that took me to a page asking for my login credentials. I didn\\'t enter anything though. The URL was http://banksecure-verification.com/login. Bob: Good call on not entering your details. Let’s check the URL. This domain was just registered two days ago. It’s highly likely it’s a phishing site. Alice: What should I do next? Bob: First, clear your browser history and cache. Also, run a full antivirus scan on your computer. Can you also provide me with any browser history entries and cookies from that session? Alice: I’ve cleared the history and started the antivirus scan. Here are the relevant entries from my browser history: Visited at 10:15 AM: http://banksecure-verification.com/login Visited at 10:17 AM: http://banksecure-verification.com/account-details Bob: Thanks. I’ll analyze these URLs further. Also, check if there are any suspicious files downloaded or present in your downloads folder. Look for anything unusual. Alice: There\\'s a file named \"AccountDetails.exe\" that I don’t remember downloading. It was created at 10:20 AM. Bob: Definitely suspicious. Don’t open it. Let’s hash the file to verify its integrity. Can you run an MD5 hash on it? Alice: Done. The MD5 hash is e99a18c428cb38d5f260853678922e03. Bob: This hash matches known malware in our database. We’ll need to quarantine it and check if it has established any network connections. I’ll look into our network logs for the IP 192.168.10.45 around 10:20 AM. Alice: Is there anything else I need to do? Bob: For now, avoid using your computer for sensitive tasks. We’ll also reset your passwords from a different device and enable two-factor authentication on your accounts. Alice: Thanks, Bob. I’ll follow these steps immediately.\\nAnswer:\\x1b[32m {\\n  \"Email From\": \"support@banksecure.com\",\\n  \"Email Subject\": \"Urgent: Verify Your Account Now\",\\n  \"IP Address\": \"192.168.10.45\",\\n  \"Domain\": \"banksecure.com\",\\n  \"Actual Domain Registration\": \"Russia\",\\n  \"URL Clicked\": \"http://banksecure-verification.com/login\",\\n  \"URL Visited 1\": \"http://banksecure-verification.com/login\",\\n  \"URL Visited 2\": \"http://banksecure-verification.com/account-details\",\\n  \"File Downloaded\": \"AccountDetails.exe\",\\n  \"File Creation Time\": \"10:20 AM\",\\n  \"MD5 Hash\": \"e99a18c428cb38d5f260853678922e03\",\\n  \"Network Logs Timestamp\": \"10:20 AM\"\\n}\\x1b[0m\\n\\n\\n'"
      ]
     },
     "execution_count": 19,
     "metadata": {},
     "output_type": "execute_result"
    }
   ],
   "source": [
    "turbo.inspect_history(n=1)"
   ]
  },
  {
   "cell_type": "code",
   "execution_count": 20,
   "metadata": {},
   "outputs": [],
   "source": [
    "class EvidenceRelationIdentifier(dspy.Signature):\n",
    "    \"\"\"Idenitfy evidence entities and their relationships from a conversation between -Alex (IT Security Specialist) and Taylor (Employee).\"\"\"\n",
    "\n",
    "    question = dspy.InputField(\n",
    "        desc=\"a conversation between -Alex (IT Security Specialist) and Bob (Employee).\"\n",
    "    )\n",
    "\n",
    "    answer_relations: str = dspy.OutputField(\n",
    "        desc=\"relatioinships between evidence entities. Output in JSON format: {Relationship name: evidence -> evidence, ...}.\"\n",
    "    )\n",
    "    \n",
    "    answer_evidence : str = dspy.OutputField(\n",
    "        desc=\"a list of evidence type and the value, inlcuding but not limited to emaile, IP address, URL, File name, timestamps, etc, idenified from the conversation. Output in JSON format: {evidence type: evidence value, ...}\"\n",
    "    )"
   ]
  },
  {
   "cell_type": "code",
   "execution_count": 21,
   "metadata": {},
   "outputs": [],
   "source": [
    "# deal with multiple output fields\n",
    "def generate_answers(\n",
    "    signature, conversation, output_file, attributes_to_extract=[\"answer\"]\n",
    "):\n",
    "    generate_answer = dspy.Predict(signature)\n",
    "    result = generate_answer(question=conversation)  # Call the module\n",
    "    print(result)\n",
    "\n",
    "    # Write the answers to the JSON file\n",
    "    with open(output_file, \"w\") as json_file:\n",
    "        # Extract specified attributes\n",
    "        for attr in attributes_to_extract:\n",
    "            if hasattr(result, attr):\n",
    "                # print(attr)\n",
    "                # print(getattr(result, attr))\n",
    "                # json_file.write(getattr(result, attr))\n",
    "                results = json.loads(getattr(result, attr))\n",
    "\n",
    "                json.dump(results, json_file, indent=4)\n",
    "\n",
    "            else:\n",
    "                print(f\"Warning: Attribute '{attr}' not found in the result.\")\n",
    "\n",
    "    print(f\"The evidence has been saved to the file {output_file}\")"
   ]
  },
  {
   "cell_type": "code",
   "execution_count": 22,
   "metadata": {},
   "outputs": [
    {
     "name": "stdout",
     "output_type": "stream",
     "text": [
      "Prediction(\n",
      "    answer_relations='{\\n  \"Email Header Analysis\": \"IP Address -> Domain\",\\n  \"URL Analysis\": \"URL -> Domain\",\\n  \"Browser History Analysis\": \"URL -> Timestamp\",\\n  \"File Analysis\": \"File Name -> Timestamp, File Name -> MD5 Hash\",\\n  \"Malware Analysis\": \"MD5 Hash -> Malware Database\"\\n}',\n",
      "    answer_evidence='{\\n  \"Email Sender\": \"support@banksecure.com\",\\n  \"Email Subject\": \"Urgent: Verify Your Account Now\",\\n  \"IP Address\": \"192.168.10.45\",\\n  \"Domain\": \"banksecure.com\",\\n  \"Domain Registration\": \"Russia\",\\n  \"URL\": \"http://banksecure-verification.com/login\",\\n  \"URL Registration Date\": \"Two days ago\",\\n  \"File Name\": \"AccountDetails.exe\",\\n  \"File Creation Timestamp\": \"10:20 AM\",\\n  \"MD5 Hash\": \"e99a18c428cb38d5f260853678922e03\"\\n}'\n",
      ")\n",
      "The evidence has been saved to the file 01_output_evidence_entity_relation.txt\n"
     ]
    }
   ],
   "source": [
    "output_file = \"01_output_entity_relation.txt\"\n",
    "generate_answers(\n",
    "    EvidenceRelationIdentifier,\n",
    "    conversation,\n",
    "    output_file,\n",
    "    [\"answer_evidence\", \"answer_relations\"],\n",
    ")"
   ]
  },
  {
   "cell_type": "code",
   "execution_count": null,
   "metadata": {},
   "outputs": [],
   "source": []
  }
 ],
 "metadata": {
  "kernelspec": {
   "display_name": "Python 3",
   "language": "python",
   "name": "python3"
  },
  "language_info": {
   "codemirror_mode": {
    "name": "ipython",
    "version": 3
   },
   "file_extension": ".py",
   "mimetype": "text/x-python",
   "name": "python",
   "nbconvert_exporter": "python",
   "pygments_lexer": "ipython3",
   "version": "3.12.3"
  }
 },
 "nbformat": 4,
 "nbformat_minor": 2
}
